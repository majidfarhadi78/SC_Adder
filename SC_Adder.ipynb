{
 "cells": [
  {
   "cell_type": "markdown",
   "id": "60e247c3",
   "metadata": {},
   "source": [
    "# Random"
   ]
  },
  {
   "cell_type": "code",
   "execution_count": 1,
   "id": "74aaeac1",
   "metadata": {},
   "outputs": [],
   "source": [
    "from random import randint\n",
    "# randint(a, b) is an integer random number in [a, b]"
   ]
  },
  {
   "cell_type": "markdown",
   "id": "e4228d0b",
   "metadata": {},
   "source": [
    "# Initialization"
   ]
  },
  {
   "cell_type": "code",
   "execution_count": 2,
   "id": "68ba74f3",
   "metadata": {},
   "outputs": [],
   "source": [
    "length = 4\n",
    "# length of the bit stream\n",
    "N = 1048576\n",
    "# the number of numbers we are adding"
   ]
  },
  {
   "cell_type": "markdown",
   "id": "391315fe",
   "metadata": {},
   "source": [
    "# Generate"
   ]
  },
  {
   "cell_type": "code",
   "execution_count": 3,
   "id": "f0cc51b4",
   "metadata": {},
   "outputs": [],
   "source": [
    "a = []\n",
    "# the array of numbers\n",
    "for i in range(N):\n",
    "    a.append(randint(0, (2**length) - 1))\n",
    "    # for example if length = 4, we are generating numbers in [0, 15] (i.e. [0000, 1111] in binray representation)"
   ]
  },
  {
   "cell_type": "markdown",
   "id": "2957589c",
   "metadata": {},
   "source": [
    "# Proposed Method"
   ]
  },
  {
   "cell_type": "code",
   "execution_count": 4,
   "id": "e38c1b57",
   "metadata": {},
   "outputs": [
    {
     "name": "stdout",
     "output_type": "stream",
     "text": [
      "our sum:  8207332\n",
      "exact sum:  7863280\n",
      "ratio:  1.0437542603086754\n"
     ]
    }
   ],
   "source": [
    "result = 0\n",
    "# the summation result\n",
    "overflow = 0\n",
    "# the number of overflows (i.e. the number of ones that we need to add at the end of the process for x + y = 1 + xy)\n",
    "for i in a:\n",
    "    if result + i > 2**length:\n",
    "    # if x + y > 1\n",
    "        result &= i\n",
    "        # AND gate\n",
    "        overflow += 1\n",
    "        # increament the number of overflows (i.e. x + y = 1 + xy)\n",
    "    else:\n",
    "    # if x + y <= 1\n",
    "        result |= i \n",
    "        # OR gate\n",
    "result += overflow * (2**length) \n",
    "# adding the ones at the end of process (i.e. the number of overflows)\n",
    "print(\"our sum: \", result) \n",
    "print(\"exact sum: \", sum(a)) \n",
    "print(\"ratio: \", result/sum(a)) "
   ]
  },
  {
   "cell_type": "markdown",
   "id": "8b6106d9",
   "metadata": {},
   "source": [
    "# MUX Method"
   ]
  },
  {
   "cell_type": "code",
   "execution_count": 5,
   "id": "e07d386f",
   "metadata": {},
   "outputs": [
    {
     "name": "stdout",
     "output_type": "stream",
     "text": [
      "MUX sum:  2097152\n",
      "exact sum:  7863280\n",
      "ratio:  0.26670193608773946\n"
     ]
    }
   ],
   "source": [
    "result = 0\n",
    "# the summation result\n",
    "for i in range(length):\n",
    "    select = randint(0, N - 1)\n",
    "    # generate the select line of the MUX\n",
    "    result <<= 1\n",
    "    # shift to the left\n",
    "    result += (a[select] >> (length - 1 - i)) % 2\n",
    "    # add (length - 1 - i)th bit of the selected input\n",
    "result *= N\n",
    "# rescaling at the end of the process\n",
    "print(\"MUX sum: \", result) \n",
    "print(\"exact sum: \", sum(a)) \n",
    "print(\"ratio: \", result/sum(a)) "
   ]
  }
 ],
 "metadata": {
  "kernelspec": {
   "display_name": "Python 3 (ipykernel)",
   "language": "python",
   "name": "python3"
  },
  "language_info": {
   "codemirror_mode": {
    "name": "ipython",
    "version": 3
   },
   "file_extension": ".py",
   "mimetype": "text/x-python",
   "name": "python",
   "nbconvert_exporter": "python",
   "pygments_lexer": "ipython3",
   "version": "3.10.9"
  }
 },
 "nbformat": 4,
 "nbformat_minor": 5
}
